{
 "cells": [
  {
   "cell_type": "code",
   "execution_count": 2,
   "id": "instrumental-canvas",
   "metadata": {},
   "outputs": [],
   "source": [
    "import pandas as pd\n",
    "import numpy as np"
   ]
  },
  {
   "cell_type": "code",
   "execution_count": 31,
   "id": "forward-berkeley",
   "metadata": {},
   "outputs": [
    {
     "name": "stdout",
     "output_type": "stream",
     "text": [
      "Apelin.csv               Data_apelin.csv          decoy.csv\r\n",
      "Apelin.ipynb             Similarity.ipynb         enrichment_plot.png\r\n",
      "Compare_1.png            active_decoy.smi\r\n",
      "Data.ipynb               active_pharmacophore.smi\r\n"
     ]
    }
   ],
   "source": [
    "!ls"
   ]
  },
  {
   "cell_type": "code",
   "execution_count": 50,
   "id": "scheduled-compromise",
   "metadata": {},
   "outputs": [
    {
     "data": {
      "text/html": [
       "<div>\n",
       "<style scoped>\n",
       "    .dataframe tbody tr th:only-of-type {\n",
       "        vertical-align: middle;\n",
       "    }\n",
       "\n",
       "    .dataframe tbody tr th {\n",
       "        vertical-align: top;\n",
       "    }\n",
       "\n",
       "    .dataframe thead th {\n",
       "        text-align: right;\n",
       "    }\n",
       "</style>\n",
       "<table border=\"1\" class=\"dataframe\">\n",
       "  <thead>\n",
       "    <tr style=\"text-align: right;\">\n",
       "      <th></th>\n",
       "      <th>Smiles</th>\n",
       "      <th>active</th>\n",
       "      <th>ID</th>\n",
       "    </tr>\n",
       "  </thead>\n",
       "  <tbody>\n",
       "    <tr>\n",
       "      <th>0</th>\n",
       "      <td>CCC(CC)n1c(Cc2cccs2)nc2cc(C(=O)NC(CC3CCCC3)C(=...</td>\n",
       "      <td>1</td>\n",
       "      <td>0</td>\n",
       "    </tr>\n",
       "    <tr>\n",
       "      <th>1</th>\n",
       "      <td>CCC(CC)n1c(Cc2cccs2)nc2cc(C(=O)NC(CC3CCC3)C(=O...</td>\n",
       "      <td>1</td>\n",
       "      <td>0</td>\n",
       "    </tr>\n",
       "  </tbody>\n",
       "</table>\n",
       "</div>"
      ],
      "text/plain": [
       "                                              Smiles  active  ID\n",
       "0  CCC(CC)n1c(Cc2cccs2)nc2cc(C(=O)NC(CC3CCCC3)C(=...       1   0\n",
       "1  CCC(CC)n1c(Cc2cccs2)nc2cc(C(=O)NC(CC3CCC3)C(=O...       1   0"
      ]
     },
     "execution_count": 50,
     "metadata": {},
     "output_type": "execute_result"
    }
   ],
   "source": [
    "df_active = pd.read_csv('active_decoy.smi', header = None)\n",
    "df_active.columns = ['Smiles']\n",
    "\n",
    "df_active['active'] = 1\n",
    "\n",
    "df_active['ID'] = 0\n",
    "for i, j in enumerate(df_decoy['ID']):\n",
    "    j = 'decoy_'+'i'\n",
    "df_active[['ID', 'Smiles', 'active']]\n",
    "\n",
    "df_active.head(2)"
   ]
  },
  {
   "cell_type": "code",
   "execution_count": 49,
   "id": "bright-hammer",
   "metadata": {},
   "outputs": [
    {
     "data": {
      "text/plain": [
       "(8, 3)"
      ]
     },
     "execution_count": 49,
     "metadata": {},
     "output_type": "execute_result"
    }
   ],
   "source": [
    "df_active.shape"
   ]
  },
  {
   "cell_type": "code",
   "execution_count": 51,
   "id": "local-explanation",
   "metadata": {},
   "outputs": [
    {
     "data": {
      "text/html": [
       "<div>\n",
       "<style scoped>\n",
       "    .dataframe tbody tr th:only-of-type {\n",
       "        vertical-align: middle;\n",
       "    }\n",
       "\n",
       "    .dataframe tbody tr th {\n",
       "        vertical-align: top;\n",
       "    }\n",
       "\n",
       "    .dataframe thead th {\n",
       "        text-align: right;\n",
       "    }\n",
       "</style>\n",
       "<table border=\"1\" class=\"dataframe\">\n",
       "  <thead>\n",
       "    <tr style=\"text-align: right;\">\n",
       "      <th></th>\n",
       "      <th>Smiles</th>\n",
       "      <th>active</th>\n",
       "      <th>ID</th>\n",
       "    </tr>\n",
       "  </thead>\n",
       "  <tbody>\n",
       "    <tr>\n",
       "      <th>0</th>\n",
       "      <td>S(C(=Cc1nccc(Cn2c(C)c(C(=O)N3CC=C(C)CC3)c(CNC(...</td>\n",
       "      <td>0</td>\n",
       "      <td>0</td>\n",
       "    </tr>\n",
       "    <tr>\n",
       "      <th>1</th>\n",
       "      <td>S(C(C)C)CC=Cc1c(N(C(=O)c2cc(NC3N(c4ccccc4)N=CC...</td>\n",
       "      <td>0</td>\n",
       "      <td>0</td>\n",
       "    </tr>\n",
       "    <tr>\n",
       "      <th>2</th>\n",
       "      <td>FC(C(C=C)=CC)=C(C(=CC(F)F)C)CN(C)c1ncc(C(=O)N=...</td>\n",
       "      <td>0</td>\n",
       "      <td>0</td>\n",
       "    </tr>\n",
       "    <tr>\n",
       "      <th>3</th>\n",
       "      <td>Fc1c(C(C#N)CCN(CCOc2c(F)cccc2)c2c(NC(C)c3c4c(s...</td>\n",
       "      <td>0</td>\n",
       "      <td>0</td>\n",
       "    </tr>\n",
       "    <tr>\n",
       "      <th>4</th>\n",
       "      <td>FC(F)CN1C(C(CC)C)CCc2c(ccc(C(Nc3c(N(C(=O)CN(C)...</td>\n",
       "      <td>0</td>\n",
       "      <td>0</td>\n",
       "    </tr>\n",
       "  </tbody>\n",
       "</table>\n",
       "</div>"
      ],
      "text/plain": [
       "                                              Smiles  active  ID\n",
       "0  S(C(=Cc1nccc(Cn2c(C)c(C(=O)N3CC=C(C)CC3)c(CNC(...       0   0\n",
       "1  S(C(C)C)CC=Cc1c(N(C(=O)c2cc(NC3N(c4ccccc4)N=CC...       0   0\n",
       "2  FC(C(C=C)=CC)=C(C(=CC(F)F)C)CN(C)c1ncc(C(=O)N=...       0   0\n",
       "3  Fc1c(C(C#N)CCN(CCOc2c(F)cccc2)c2c(NC(C)c3c4c(s...       0   0\n",
       "4  FC(F)CN1C(C(CC)C)CCc2c(ccc(C(Nc3c(N(C(=O)CN(C)...       0   0"
      ]
     },
     "execution_count": 51,
     "metadata": {},
     "output_type": "execute_result"
    }
   ],
   "source": [
    "df_decoy = pd.read_csv('decoy.csv', usecols =['decoy'])\n",
    "df_decoy.rename(columns = {'decoy':'Smiles'}, inplace = True)\n",
    "df_decoy['active'] = 0\n",
    "\n",
    "df_decoy['ID'] = 0\n",
    "for i, j in enumerate(df_decoy['ID']):\n",
    "    j = 'decoy_'+'i'\n",
    "df_decoy[['ID', 'Smiles', 'active']]\n",
    "\n",
    "df_decoy.head(5)"
   ]
  },
  {
   "cell_type": "code",
   "execution_count": 52,
   "id": "passive-morrison",
   "metadata": {},
   "outputs": [
    {
     "data": {
      "text/html": [
       "<div>\n",
       "<style scoped>\n",
       "    .dataframe tbody tr th:only-of-type {\n",
       "        vertical-align: middle;\n",
       "    }\n",
       "\n",
       "    .dataframe tbody tr th {\n",
       "        vertical-align: top;\n",
       "    }\n",
       "\n",
       "    .dataframe thead th {\n",
       "        text-align: right;\n",
       "    }\n",
       "</style>\n",
       "<table border=\"1\" class=\"dataframe\">\n",
       "  <thead>\n",
       "    <tr style=\"text-align: right;\">\n",
       "      <th></th>\n",
       "      <th>Smiles</th>\n",
       "      <th>active</th>\n",
       "      <th>ID</th>\n",
       "    </tr>\n",
       "  </thead>\n",
       "  <tbody>\n",
       "    <tr>\n",
       "      <th>0</th>\n",
       "      <td>CCC(CC)n1c(Cc2cccs2)nc2cc(C(=O)NC(CC3CCCC3)C(=...</td>\n",
       "      <td>1</td>\n",
       "      <td>0</td>\n",
       "    </tr>\n",
       "    <tr>\n",
       "      <th>1</th>\n",
       "      <td>CCC(CC)n1c(Cc2cccs2)nc2cc(C(=O)NC(CC3CCC3)C(=O...</td>\n",
       "      <td>1</td>\n",
       "      <td>0</td>\n",
       "    </tr>\n",
       "  </tbody>\n",
       "</table>\n",
       "</div>"
      ],
      "text/plain": [
       "                                              Smiles  active  ID\n",
       "0  CCC(CC)n1c(Cc2cccs2)nc2cc(C(=O)NC(CC3CCCC3)C(=...       1   0\n",
       "1  CCC(CC)n1c(Cc2cccs2)nc2cc(C(=O)NC(CC3CCC3)C(=O...       1   0"
      ]
     },
     "execution_count": 52,
     "metadata": {},
     "output_type": "execute_result"
    }
   ],
   "source": [
    "df_all = pd.concat([df_active, df_decoy], axis =0).reset_index(drop = True)\n",
    "df_all.head(2)"
   ]
  },
  {
   "cell_type": "code",
   "execution_count": 53,
   "id": "fitting-strap",
   "metadata": {},
   "outputs": [],
   "source": [
    "df_all.to_csv('Data_apelin.csv')"
   ]
  },
  {
   "cell_type": "code",
   "execution_count": 54,
   "id": "wrapped-grace",
   "metadata": {},
   "outputs": [],
   "source": [
    "active = pd.read_csv('active_pharmacophore.smi', header = None)\n",
    "active.columns = ['Smiles']"
   ]
  },
  {
   "cell_type": "code",
   "execution_count": 57,
   "id": "useful-thesaurus",
   "metadata": {},
   "outputs": [
    {
     "data": {
      "text/plain": [
       "'CCC(CC)n1c(Cc2cccs2)nc2cc(C(=O)N[C@H](CC(=O)O)CC(C)C)ccc21'"
      ]
     },
     "execution_count": 57,
     "metadata": {},
     "output_type": "execute_result"
    }
   ],
   "source": [
    "active.Smiles[0]"
   ]
  },
  {
   "cell_type": "code",
   "execution_count": null,
   "id": "controversial-guitar",
   "metadata": {},
   "outputs": [],
   "source": []
  }
 ],
 "metadata": {
  "kernelspec": {
   "display_name": "Python 3",
   "language": "python",
   "name": "python3"
  },
  "language_info": {
   "codemirror_mode": {
    "name": "ipython",
    "version": 3
   },
   "file_extension": ".py",
   "mimetype": "text/x-python",
   "name": "python",
   "nbconvert_exporter": "python",
   "pygments_lexer": "ipython3",
   "version": "3.8.7"
  }
 },
 "nbformat": 4,
 "nbformat_minor": 5
}
